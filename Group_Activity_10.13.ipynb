{
 "cells": [
  {
   "cell_type": "markdown",
   "id": "339dc09c",
   "metadata": {},
   "source": [
    "# Week 5 Group Activity"
   ]
  },
  {
   "cell_type": "code",
   "execution_count": 1,
   "id": "f8ad9658",
   "metadata": {},
   "outputs": [
    {
     "data": {
      "text/plain": [
       "95430"
      ]
     },
     "execution_count": 1,
     "metadata": {},
     "output_type": "execute_result"
    }
   ],
   "source": [
    "def descending_order(num):\n",
    "    if num >=0:\n",
    "        str_num = str(num)\n",
    "        str_list = list(str_num)\n",
    "        sorted_list = sorted(str_list, reverse=True)\n",
    "        back2str= ''.join(sorted_list)\n",
    "        result = int(back2str)\n",
    "        return result\n",
    "    else:\n",
    "        return 111111\n",
    "\n",
    "descending_order(43905)"
   ]
  },
  {
   "cell_type": "code",
   "execution_count": 2,
   "id": "3a1c0281",
   "metadata": {},
   "outputs": [
    {
     "data": {
      "text/plain": [
       "866543"
      ]
     },
     "execution_count": 2,
     "metadata": {},
     "output_type": "execute_result"
    }
   ],
   "source": [
    "descending_order(584366)"
   ]
  },
  {
   "cell_type": "code",
   "execution_count": 3,
   "id": "de61cbc9",
   "metadata": {},
   "outputs": [],
   "source": [
    "import pandas as pd\n",
    "import numpy as np\n",
    "file_to_load = \"JEOPARDY_CSV.csv\"\n",
    "jeopardy_csv = pd.read_csv(file_to_load)"
   ]
  },
  {
   "cell_type": "code",
   "execution_count": 8,
   "id": "bfa80a31",
   "metadata": {},
   "outputs": [
    {
     "data": {
      "text/html": [
       "<div>\n",
       "<style scoped>\n",
       "    .dataframe tbody tr th:only-of-type {\n",
       "        vertical-align: middle;\n",
       "    }\n",
       "\n",
       "    .dataframe tbody tr th {\n",
       "        vertical-align: top;\n",
       "    }\n",
       "\n",
       "    .dataframe thead th {\n",
       "        text-align: right;\n",
       "    }\n",
       "</style>\n",
       "<table border=\"1\" class=\"dataframe\">\n",
       "  <thead>\n",
       "    <tr style=\"text-align: right;\">\n",
       "      <th></th>\n",
       "      <th>Show Number</th>\n",
       "      <th>Air Date</th>\n",
       "      <th>Round</th>\n",
       "      <th>Category</th>\n",
       "      <th>Value</th>\n",
       "      <th>Question</th>\n",
       "      <th>Answer</th>\n",
       "    </tr>\n",
       "  </thead>\n",
       "  <tbody>\n",
       "    <tr>\n",
       "      <th>0</th>\n",
       "      <td>4680</td>\n",
       "      <td>12/31/2004</td>\n",
       "      <td>Jeopardy!</td>\n",
       "      <td>HISTORY</td>\n",
       "      <td>$200</td>\n",
       "      <td>For the last 8 years of his life, Galileo was ...</td>\n",
       "      <td>Copernicus</td>\n",
       "    </tr>\n",
       "    <tr>\n",
       "      <th>1</th>\n",
       "      <td>4680</td>\n",
       "      <td>12/31/2004</td>\n",
       "      <td>Jeopardy!</td>\n",
       "      <td>ESPN's TOP 10 ALL-TIME ATHLETES</td>\n",
       "      <td>$200</td>\n",
       "      <td>No. 2: 1912 Olympian; football star at Carlisl...</td>\n",
       "      <td>Jim Thorpe</td>\n",
       "    </tr>\n",
       "    <tr>\n",
       "      <th>2</th>\n",
       "      <td>4680</td>\n",
       "      <td>12/31/2004</td>\n",
       "      <td>Jeopardy!</td>\n",
       "      <td>EVERYBODY TALKS ABOUT IT...</td>\n",
       "      <td>$200</td>\n",
       "      <td>The city of Yuma in this state has a record av...</td>\n",
       "      <td>Arizona</td>\n",
       "    </tr>\n",
       "    <tr>\n",
       "      <th>3</th>\n",
       "      <td>4680</td>\n",
       "      <td>12/31/2004</td>\n",
       "      <td>Jeopardy!</td>\n",
       "      <td>THE COMPANY LINE</td>\n",
       "      <td>$200</td>\n",
       "      <td>In 1963, live on \"The Art Linkletter Show\", th...</td>\n",
       "      <td>McDonald's</td>\n",
       "    </tr>\n",
       "    <tr>\n",
       "      <th>4</th>\n",
       "      <td>4680</td>\n",
       "      <td>12/31/2004</td>\n",
       "      <td>Jeopardy!</td>\n",
       "      <td>EPITAPHS &amp; TRIBUTES</td>\n",
       "      <td>$200</td>\n",
       "      <td>Signer of the Dec. of Indep., framer of the Co...</td>\n",
       "      <td>John Adams</td>\n",
       "    </tr>\n",
       "  </tbody>\n",
       "</table>\n",
       "</div>"
      ],
      "text/plain": [
       "   Show Number    Air Date      Round                         Category  Value  \\\n",
       "0         4680  12/31/2004  Jeopardy!                          HISTORY  $200    \n",
       "1         4680  12/31/2004  Jeopardy!  ESPN's TOP 10 ALL-TIME ATHLETES  $200    \n",
       "2         4680  12/31/2004  Jeopardy!      EVERYBODY TALKS ABOUT IT...  $200    \n",
       "3         4680  12/31/2004  Jeopardy!                 THE COMPANY LINE  $200    \n",
       "4         4680  12/31/2004  Jeopardy!              EPITAPHS & TRIBUTES  $200    \n",
       "\n",
       "                                            Question      Answer  \n",
       "0  For the last 8 years of his life, Galileo was ...  Copernicus  \n",
       "1  No. 2: 1912 Olympian; football star at Carlisl...  Jim Thorpe  \n",
       "2  The city of Yuma in this state has a record av...     Arizona  \n",
       "3  In 1963, live on \"The Art Linkletter Show\", th...  McDonald's  \n",
       "4  Signer of the Dec. of Indep., framer of the Co...  John Adams  "
      ]
     },
     "execution_count": 8,
     "metadata": {},
     "output_type": "execute_result"
    }
   ],
   "source": [
    "jeopardy_df = pd.DataFrame(jeopardy_csv)\n",
    "jeopardy_df.head()\n",
    "# Each row is a different question asked on the show Jeopardy. "
   ]
  },
  {
   "cell_type": "code",
   "execution_count": 9,
   "id": "3bd57be1",
   "metadata": {},
   "outputs": [
    {
     "name": "stdout",
     "output_type": "stream",
     "text": [
      "216930\n"
     ]
    }
   ],
   "source": [
    "print(len(jeopardy_df))"
   ]
  },
  {
   "cell_type": "code",
   "execution_count": 11,
   "id": "b37901f9",
   "metadata": {},
   "outputs": [
    {
     "data": {
      "text/plain": [
       "3640"
      ]
     },
     "execution_count": 11,
     "metadata": {},
     "output_type": "execute_result"
    }
   ],
   "source": [
    "#How many unique shows were there each year?\n",
    "jeopardy_df['Show Number'].nunique()"
   ]
  },
  {
   "cell_type": "markdown",
   "id": "4072a71c",
   "metadata": {},
   "source": [
    "How many times did each value get picked by the contestants, and what is the value of the most asked questions?"
   ]
  },
  {
   "cell_type": "code",
   "execution_count": 32,
   "id": "455d43f6",
   "metadata": {},
   "outputs": [
    {
     "data": {
      "text/html": [
       "<div>\n",
       "<style scoped>\n",
       "    .dataframe tbody tr th:only-of-type {\n",
       "        vertical-align: middle;\n",
       "    }\n",
       "\n",
       "    .dataframe tbody tr th {\n",
       "        vertical-align: top;\n",
       "    }\n",
       "\n",
       "    .dataframe thead th {\n",
       "        text-align: right;\n",
       "    }\n",
       "</style>\n",
       "<table border=\"1\" class=\"dataframe\">\n",
       "  <thead>\n",
       "    <tr style=\"text-align: right;\">\n",
       "      <th></th>\n",
       "      <th>Question</th>\n",
       "    </tr>\n",
       "    <tr>\n",
       "      <th>Value</th>\n",
       "      <th></th>\n",
       "    </tr>\n",
       "  </thead>\n",
       "  <tbody>\n",
       "    <tr>\n",
       "      <th>$400</th>\n",
       "      <td>42244</td>\n",
       "    </tr>\n",
       "    <tr>\n",
       "      <th>$800</th>\n",
       "      <td>31860</td>\n",
       "    </tr>\n",
       "    <tr>\n",
       "      <th>$200</th>\n",
       "      <td>30455</td>\n",
       "    </tr>\n",
       "    <tr>\n",
       "      <th>$1,000</th>\n",
       "      <td>21640</td>\n",
       "    </tr>\n",
       "    <tr>\n",
       "      <th>$600</th>\n",
       "      <td>20377</td>\n",
       "    </tr>\n",
       "  </tbody>\n",
       "</table>\n",
       "</div>"
      ],
      "text/plain": [
       "          Question\n",
       " Value            \n",
       "$400         42244\n",
       "$800         31860\n",
       "$200         30455\n",
       "$1,000       21640\n",
       "$600         20377"
      ]
     },
     "execution_count": 32,
     "metadata": {},
     "output_type": "execute_result"
    }
   ],
   "source": [
    "# First I created a new dataframe that grouped the jeopardy df by the monetary value of the questions. \n",
    "# Then I had the Question column display the count of each value. \n",
    "question_values_df = pd.DataFrame(jeopardy_df.groupby(' Value')[' Question'].count())\n",
    "#Finally, I organized the Question column from highest to lowest count so that we could see the most asked value. \n",
    "question_values_df.sort_values(' Question', ascending=False).head()\n",
    "\n",
    "#The value of the most asked question is $400. "
   ]
  },
  {
   "cell_type": "code",
   "execution_count": 39,
   "id": "54591ee9",
   "metadata": {},
   "outputs": [
    {
     "data": {
      "image/png": "[encoded data removed]",
      "text/plain": [
       "<Figure size 432x288 with 1 Axes>"
      ]
     },
     "metadata": {
      "needs_background": "light"
     },
     "output_type": "display_data"
    }
   ],
   "source": [
    "from matplotlib import pyplot as plt\n",
    "\n",
    "jeopardy_df[' Air Date'] = pd.to_datetime(jeopardy_df[' Air Date'])\n",
    "jeopardy_df['Year'] = jeopardy_df[' Air Date'].dt.year\n",
    "\n",
    "mos_pop_year_df = pd.DataFrame(jeopardy_df.groupby('Year')[' Question'].count())\n",
    "\n",
    "mos_pop_year_df.plot(kind='bar')\n",
    "\n",
    "plt.show()\n",
    "\n",
    "# By creating a DF grouped by the year and counting the amount of questions in that year, \n",
    "# I can see when popularity grew for the show. The most notiable popularity jump occured in 1997. \n"
   ]
  },
  {
   "cell_type": "code",
   "execution_count": null,
   "id": "a82d9c5a",
   "metadata": {},
   "outputs": [],
   "source": []
  }
 ],
 "metadata": {
  "kernelspec": {
   "display_name": "Python 3 (ipykernel)",
   "language": "python",
   "name": "python3"
  },
  "language_info": {
   "codemirror_mode": {
    "name": "ipython",
    "version": 3
   },
   "file_extension": ".py",
   "mimetype": "text/x-python",
   "name": "python",
   "nbconvert_exporter": "python",
   "pygments_lexer": "ipython3",
   "version": "3.9.7"
  }
 },
 "nbformat": 4,
 "nbformat_minor": 5
}
