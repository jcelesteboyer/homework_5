{
 "cells": [
  {
   "cell_type": "code",
   "execution_count": 4,
   "id": "0478171c",
   "metadata": {},
   "outputs": [],
   "source": [
    "from api_keys import api_key"
   ]
  },
  {
   "cell_type": "code",
   "execution_count": 10,
   "id": "8ecd9a51",
   "metadata": {},
   "outputs": [],
   "source": [
    "import requests\n",
    "import numpy as np\n",
    "import pandas as pd"
   ]
  },
  {
   "cell_type": "code",
   "execution_count": 11,
   "id": "db3ae7a7",
   "metadata": {},
   "outputs": [],
   "source": [
    "base_url = \"http://api.openweathermap.org/data/2.5/weather?units=Imperial&APPID=\" + api_key\n",
    "city = 'st. louis'"
   ]
  },
  {
   "cell_type": "code",
   "execution_count": 12,
   "id": "c35a0de9",
   "metadata": {},
   "outputs": [],
   "source": [
    "req = requests.get(base_url + f'&q={city}')"
   ]
  },
  {
   "cell_type": "code",
   "execution_count": null,
   "id": "4508d137",
   "metadata": {},
   "outputs": [],
   "source": []
  }
 ],
 "metadata": {
  "kernelspec": {
   "display_name": "Python 3 (ipykernel)",
   "language": "python",
   "name": "python3"
  },
  "language_info": {
   "codemirror_mode": {
    "name": "ipython",
    "version": 3
   },
   "file_extension": ".py",
   "mimetype": "text/x-python",
   "name": "python",
   "nbconvert_exporter": "python",
   "pygments_lexer": "ipython3",
   "version": "3.9.7"
  }
 },
 "nbformat": 4,
 "nbformat_minor": 5
}
